{
 "cells": [
  {
   "cell_type": "code",
   "execution_count": 1,
   "metadata": {},
   "outputs": [],
   "source": [
    "import numpy as np\n",
    "from scipy.stats import multivariate_normal"
   ]
  },
  {
   "cell_type": "code",
   "execution_count": 2,
   "metadata": {},
   "outputs": [],
   "source": [
    "# Selecionar a observação em estudo\n",
    "x1 = np.array([ 0.6 ,  0.1]) # array x1\n",
    "x2 = np.array([-0.4 ,  0.8]) # array x2\n",
    "x3 = np.array([ 0.2 ,  0.5]) # array x3\n",
    "x4 = np.array([ 0.4 , -0.1]) # array x4"
   ]
  },
  {
   "cell_type": "code",
   "execution_count": 3,
   "metadata": {},
   "outputs": [
    {
     "name": "stdout",
     "output_type": "stream",
     "text": [
      "N(X1 | C1) = 0.066575\n",
      "N(X2 | C1) = 0.050049\n",
      "N(X3 | C1) = 0.068375\n",
      "N(X4 | C1) = 0.059047\n",
      "P(X1 | C1) = 0.019973\n",
      "P(X2 | C1) = 0.035034\n",
      "P(X3 | C1) = 0.047862\n",
      "P(X4 | C1) = 0.017714\n"
     ]
    }
   ],
   "source": [
    "# P( Xn | C1)\n",
    "\n",
    "p1 = 0.3\n",
    "mean = np.array([1, 1])\n",
    "covariance_matrix = np.array([[2, 0.5], [0.5, 2]])\n",
    "\n",
    "mvn = multivariate_normal(mean=mean, cov=covariance_matrix)\n",
    "Normal1 = mvn.pdf(x1)  \n",
    "Normal2 = mvn.pdf(x2) \n",
    "Normal3 = mvn.pdf(x3) \n",
    "Normal4 = mvn.pdf(x4) \n",
    "probability1 = mvn.pdf(x1) * p1\n",
    "probability2 = mvn.pdf(x2) * (1-p1)\n",
    "probability3 = mvn.pdf(x3) * (1-p1)\n",
    "probability4 = mvn.pdf(x4) * p1\n",
    "\n",
    "print(f\"N(X1 | C1) = {Normal1:.6f}\")\n",
    "print(f\"N(X2 | C1) = {Normal2:.6f}\")\n",
    "print(f\"N(X3 | C1) = {Normal3:.6f}\")\n",
    "print(f\"N(X4 | C1) = {Normal4:.6f}\")\n",
    "print(f\"P(X1 | C1) = {probability1:.6f}\")\n",
    "print(f\"P(X2 | C1) = {probability2:.6f}\")\n",
    "print(f\"P(X3 | C1) = {probability3:.6f}\")\n",
    "print(f\"P(X4 | C1) = {probability4:.6f}\")"
   ]
  },
  {
   "cell_type": "code",
   "execution_count": 4,
   "metadata": {},
   "outputs": [
    {
     "name": "stdout",
     "output_type": "stream",
     "text": [
      "N(X1 | C2) = 0.119618\n",
      "N(X2 | C2) = 0.068191\n",
      "N(X3 | C2) = 0.129581\n",
      "N(X4 | C2) = 0.124500\n",
      "P(X1 | C2) = 0.083733\n",
      "P(X2 | C2) = 0.020457\n",
      "P(X3 | C2) = 0.038874\n",
      "P(X4 | C2) = 0.087150\n"
     ]
    }
   ],
   "source": [
    "# P( Xn | C2)\n",
    "\n",
    "p2 = 0.7\n",
    "mean = np.array([0, 0])\n",
    "covariance_matrix = np.array([[1.5, 1], [1, 1.5]])\n",
    "\n",
    "mvn = multivariate_normal(mean=mean, cov=covariance_matrix)\n",
    "Normal1 = mvn.pdf(x1) \n",
    "Normal2 = mvn.pdf(x2) \n",
    "Normal3 = mvn.pdf(x3) \n",
    "Normal4 = mvn.pdf(x4) \n",
    "probability1 = mvn.pdf(x1) * p2\n",
    "probability2 = mvn.pdf(x2) * (1-p2)\n",
    "probability3 = mvn.pdf(x3) * (1-p2)\n",
    "probability4 = mvn.pdf(x4) * p2\n",
    "\n",
    "print(f\"N(X1 | C2) = {Normal1:.6f}\")\n",
    "print(f\"N(X2 | C2) = {Normal2:.6f}\")\n",
    "print(f\"N(X3 | C2) = {Normal3:.6f}\")\n",
    "print(f\"N(X4 | C2) = {Normal4:.6f}\")\n",
    "print(f\"P(X1 | C2) = {probability1:.6f}\")\n",
    "print(f\"P(X2 | C2) = {probability2:.6f}\")\n",
    "print(f\"P(X3 | C2) = {probability3:.6f}\")\n",
    "print(f\"P(X4 | C2) = {probability4:.6f}\")"
   ]
  }
 ],
 "metadata": {
  "kernelspec": {
   "display_name": "Python 3",
   "language": "python",
   "name": "python3"
  },
  "language_info": {
   "codemirror_mode": {
    "name": "ipython",
    "version": 3
   },
   "file_extension": ".py",
   "mimetype": "text/x-python",
   "name": "python",
   "nbconvert_exporter": "python",
   "pygments_lexer": "ipython3",
   "version": "3.11.5"
  },
  "orig_nbformat": 4
 },
 "nbformat": 4,
 "nbformat_minor": 2
}
