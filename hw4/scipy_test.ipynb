{
 "cells": [
  {
   "cell_type": "code",
   "execution_count": 13,
   "metadata": {},
   "outputs": [],
   "source": [
    "import numpy as np\n",
    "from scipy.stats import multivariate_normal"
   ]
  },
  {
   "cell_type": "code",
   "execution_count": 14,
   "metadata": {},
   "outputs": [],
   "source": [
    "# Selecionar a observação em estudo\n",
    "x1 = np.array([ 0.6 ,  0.1]) # array x1\n",
    "x2 = np.array([-0.4 ,  0.8]) # array x2\n",
    "x3 = np.array([ 0.2 ,  0.5]) # array x3\n",
    "x4 = np.array([ 0.4 , -0.1]) # array x4"
   ]
  },
  {
   "cell_type": "code",
   "execution_count": 15,
   "metadata": {},
   "outputs": [
    {
     "name": "stdout",
     "output_type": "stream",
     "text": [
      "N(X1 | C1) = 0.066575\n",
      "N(X2 | C1) = 0.050049\n",
      "N(X3 | C1) = 0.068375\n",
      "N(X4 | C1) = 0.059047\n",
      "P(X1 | C1) = 0.019973\n",
      "P(X2 | C1) = 0.035034\n",
      "P(X3 | C1) = 0.047862\n",
      "P(X4 | C1) = 0.017714\n",
      "P(X1 , C1) = 0.009986\n",
      "P(X2 , C1) = 0.017517\n",
      "P(X3 , C1) = 0.023931\n",
      "P(X4 , C1) = 0.008857\n"
     ]
    }
   ],
   "source": [
    "# P( Xn | C1)\n",
    "\n",
    "p1 = 0.3\n",
    "pi1 = 0.5\n",
    "mean = np.array([1, 1])\n",
    "covariance_matrix = np.array([[2, 0.5], [0.5, 2]])\n",
    "\n",
    "mvn = multivariate_normal(mean=mean, cov=covariance_matrix)\n",
    "Normal1 = mvn.pdf(x1)  \n",
    "Normal2 = mvn.pdf(x2) \n",
    "Normal3 = mvn.pdf(x3) \n",
    "Normal4 = mvn.pdf(x4) \n",
    "probability1 = mvn.pdf(x1) * p1\n",
    "probability2 = mvn.pdf(x2) * (1-p1)\n",
    "probability3 = mvn.pdf(x3) * (1-p1)\n",
    "probability4 = mvn.pdf(x4) * p1\n",
    "step2X1C1 = pi1 * probability1 \n",
    "step2X2C1 = pi1 * probability2 \n",
    "step2X3C1 = pi1 * probability3 \n",
    "step2X4C1 = pi1 * probability4\n",
    "\n",
    "print(f\"N(X1 | C1) = {Normal1:.6f}\")\n",
    "print(f\"N(X2 | C1) = {Normal2:.6f}\")\n",
    "print(f\"N(X3 | C1) = {Normal3:.6f}\")\n",
    "print(f\"N(X4 | C1) = {Normal4:.6f}\")\n",
    "print(f\"P(X1 | C1) = {probability1:.6f}\")\n",
    "print(f\"P(X2 | C1) = {probability2:.6f}\")\n",
    "print(f\"P(X3 | C1) = {probability3:.6f}\")\n",
    "print(f\"P(X4 | C1) = {probability4:.6f}\")\n",
    "print(f\"STEP2(X1 , C1) = {step2X1C1:.6f}\")\n",
    "print(f\"STEP2(X2 , C1) = {step2X2C1:.6f}\")\n",
    "print(f\"STEP2(X3 , C1) = {step2X3C1:.6f}\")\n",
    "print(f\"STEP2(X4 , C1) = {step2X4C1:.6f}\")"
   ]
  },
  {
   "cell_type": "code",
   "execution_count": 16,
   "metadata": {},
   "outputs": [
    {
     "name": "stdout",
     "output_type": "stream",
     "text": [
      "N(X1 | C2) = 0.119618\n",
      "N(X2 | C2) = 0.068191\n",
      "N(X3 | C2) = 0.129581\n",
      "N(X4 | C2) = 0.124500\n",
      "P(X1 | C2) = 0.059809\n",
      "P(X2 | C2) = 0.034095\n",
      "P(X3 | C2) = 0.064791\n",
      "P(X4 | C2) = 0.062250\n",
      "P(X1 , C2) = 0.029905\n",
      "P(X2 , C2) = 0.017048\n",
      "P(X3 , C2) = 0.032395\n",
      "P(X4 , C2) = 0.031125\n"
     ]
    }
   ],
   "source": [
    "# P( Xn,| C2)\n",
    "\n",
    "p2 = 0.5\n",
    "pi2 = 0.5\n",
    "mean = np.array([0, 0])\n",
    "covariance_matrix = np.array([[1.5, 1], [1, 1.5]])\n",
    "\n",
    "mvn = multivariate_normal(mean=mean, cov=covariance_matrix)\n",
    "Normal1 = mvn.pdf(x1) \n",
    "Normal2 = mvn.pdf(x2) \n",
    "Normal3 = mvn.pdf(x3) \n",
    "Normal4 = mvn.pdf(x4) \n",
    "probability1 = mvn.pdf(x1) * p2\n",
    "probability2 = mvn.pdf(x2) * (1-p2)\n",
    "probability3 = mvn.pdf(x3) * (1-p2)\n",
    "probability4 = mvn.pdf(x4) * p2\n",
    "step2X1C2 = pi2 * probability1 \n",
    "step2X2C2 = pi2 * probability2 \n",
    "step2X3C2 = pi2 * probability3 \n",
    "step2X4C2 = pi2 * probability4 \n",
    "\n",
    "print(f\"N(X1 | C2) = {Normal1:.6f}\")\n",
    "print(f\"N(X2 | C2) = {Normal2:.6f}\")\n",
    "print(f\"N(X3 | C2) = {Normal3:.6f}\")\n",
    "print(f\"N(X4 | C2) = {Normal4:.6f}\")\n",
    "print(f\"P(X1 | C2) = {probability1:.6f}\")\n",
    "print(f\"P(X2 | C2) = {probability2:.6f}\")\n",
    "print(f\"P(X3 | C2) = {probability3:.6f}\")\n",
    "print(f\"P(X4 | C2) = {probability4:.6f}\")\n",
    "print(f\"STEP2(X1 , C2) = {step2X1C2:.6f}\")\n",
    "print(f\"STEP2(X2 , C2) = {step2X2C2:.6f}\")\n",
    "print(f\"STEP2(X3 , C2) = {step2X3C2:.6f}\")\n",
    "print(f\"STEP2(X4 , C2) = {step2X4C2:.6f}\")"
   ]
  },
  {
   "cell_type": "code",
   "execution_count": 17,
   "metadata": {},
   "outputs": [
    {
     "name": "stdout",
     "output_type": "stream",
     "text": [
      "P(X1 , C2) = 0.039891\n",
      "P(X2 , C2) = 0.034565\n",
      "P(X3 , C2) = 0.056326\n",
      "P(X4 , C2) = 0.039982\n"
     ]
    }
   ],
   "source": [
    "pX1 = step2X1C1 + step2X1C2 \n",
    "pX2 = step2X2C1 + step2X2C2 \n",
    "pX3 = step2X3C1 + step2X3C2 \n",
    "pX4 = step2X4C1 + step2X4C2 \n",
    "step3C1X1 = step2X1C1 / pX1\n",
    "step3C2X1 = step2X1C2 / pX1\n",
    "step3C1X2 = step2X2C1 / pX2\n",
    "step3C2X2 = step2X2C2 / pX2\n",
    "step3C1X3 = step2X3C1 / pX3\n",
    "step3C2X3 = step2X3C2 / pX3\n",
    "step3C1X4 = step2X4C1 / pX4\n",
    "step3C2X4 = step2X4C2 / pX4\n",
    "\n",
    "print(f\"PXn(X1 , C2) = {pX1:.6f}\")\n",
    "print(f\"PXn(X2 , C2) = {pX2:.6f}\")\n",
    "print(f\"PXn(X3 , C2) = {pX3:.6f}\")\n",
    "print(f\"PXn(X4 , C2) = {pX4:.6f}\")\n",
    "print(f\"Y(C11) = {step3C1X1:.6f}\")\n",
    "print(f\"Y(C12) = {step3C2X1:.6f}\")\n",
    "print(f\"Y(C21) = {step3C1X2:.6f}\")\n",
    "print(f\"Y(C22) = {step3C2X2:.6f}\")\n",
    "print(f\"Y(C31) = {step3C1X3:.6f}\")\n",
    "print(f\"Y(C32) = {step3C2X3:.6f}\")\n",
    "print(f\"Y(C41) = {step3C1X4:.6f}\")\n",
    "print(f\"Y(C42) = {step3C2X4:.6f}\")"
   ]
  }
 ],
 "metadata": {
  "kernelspec": {
   "display_name": "Python 3",
   "language": "python",
   "name": "python3"
  },
  "language_info": {
   "codemirror_mode": {
    "name": "ipython",
    "version": 3
   },
   "file_extension": ".py",
   "mimetype": "text/x-python",
   "name": "python",
   "nbconvert_exporter": "python",
   "pygments_lexer": "ipython3",
   "version": "3.11.5"
  },
  "orig_nbformat": 4
 },
 "nbformat": 4,
 "nbformat_minor": 2
}
