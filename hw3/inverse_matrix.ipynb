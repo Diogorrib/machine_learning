{
 "cells": [
  {
   "cell_type": "code",
   "execution_count": 2,
   "metadata": {},
   "outputs": [
    {
     "name": "stdout",
     "output_type": "stream",
     "text": [
      "matriz antes de estar inversa:\n",
      " [[2.23005283 1.84602043 1.67674874 1.84717903]\n",
      " [1.84602043 1.94688526 1.8417089  1.97917732]\n",
      " [1.68118595 1.84653976 2.12673295 2.11423178]\n",
      " [1.84717903 1.97917732 2.10899857 2.33220741]] \n",
      "\n",
      "matriz inversa:\n",
      " [[ 2.1468964  -2.33457816  0.50099777 -0.1733908 ]\n",
      " [-2.3340794   6.46520409 -1.4942947  -2.28326066]\n",
      " [ 0.50219069 -1.50283336  5.00299178 -3.65779929]\n",
      " [-0.17376862 -2.2784972  -3.65287448  5.81147069]] \n",
      "\n",
      "transposta vezes targets:\n",
      " [1.5038174 1.4695034 1.4730494 1.5739946] \n",
      "\n",
      "matriz inversa vezes a outra multiplicação:\n",
      " [0.26294792 0.19560033 0.15908207 0.15678328] \n",
      "\n",
      "matriz vezes w (rmse):\n",
      " [0.7744136  0.6076903  0.29039633 0.30714271] \n",
      "\n"
     ]
    }
   ],
   "source": [
    "import numpy as np\n",
    "\n",
    "# Define two matrices\n",
    "matrix1 = np.array([[1,0.748264,0.748264,0.101266], [1,0.814647,0.271173,0.331211], [1,0.71770,0.096328,0.711770], [1,0.882497,0.161218,0.653770]])\n",
    "matrix2 = np.array([[1,1,1,1], [0.748264,0.814647,0.711770,0.882497], [0.748264,0.271173,0.096328,0.161218], [0.101266,0.331211,0.711770,0.653770]])\n",
    "\n",
    "# Multiply the matrices using numpy.dot\n",
    "mult1 = np.dot(matrix1, matrix2)\n",
    "\n",
    "# Print the result\n",
    "#print(mult1, '\\n')\n",
    "\n",
    "matrix_i = np.array([[0.1,0,0,0], [0,0.1,0,0], [0,0,0.1,0], [0,0,0,0.1]])\n",
    "\n",
    "mult2 = np.add(mult1, matrix_i)\n",
    "\n",
    "print('matriz antes de estar inversa:\\n', mult2, '\\n')\n",
    "\n",
    "# Calculate the standard matrix inverse\n",
    "matrix_inverse = np.linalg.inv(mult2)\n",
    "\n",
    "print('matriz inversa:\\n', matrix_inverse, '\\n')\n",
    "\n",
    "targets = np.array([0.8,0.6,0.3,0.3])\n",
    "\n",
    "transp = np.dot(matrix1, targets)\n",
    "\n",
    "print('transposta vezes targets:\\n', transp, '\\n')\n",
    "\n",
    "res = np.dot(matrix_inverse, transp)\n",
    "\n",
    "print('matriz inversa vezes a outra multiplicação:\\n', res, '\\n')\n",
    "\n",
    "\n",
    "#b)\n",
    "rmse = np.dot(matrix2, res)\n",
    "\n",
    "print('matriz vezes w (rmse):\\n',rmse, '\\n')"
   ]
  }
 ],
 "metadata": {
  "kernelspec": {
   "display_name": "Python 3",
   "language": "python",
   "name": "python3"
  },
  "language_info": {
   "codemirror_mode": {
    "name": "ipython",
    "version": 3
   },
   "file_extension": ".py",
   "mimetype": "text/x-python",
   "name": "python",
   "nbconvert_exporter": "python",
   "pygments_lexer": "ipython3",
   "version": "3.11.2"
  }
 },
 "nbformat": 4,
 "nbformat_minor": 2
}
