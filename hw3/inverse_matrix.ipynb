{
 "cells": [
  {
   "cell_type": "code",
   "execution_count": 1,
   "metadata": {},
   "outputs": [],
   "source": [
    "import numpy as np\n",
    "import pandas as pd"
   ]
  },
  {
   "cell_type": "code",
   "execution_count": 2,
   "metadata": {},
   "outputs": [
    {
     "name": "stdout",
     "output_type": "stream",
     "text": [
      "primeira multiplicação:\n",
      " 4.000000 3.163108 1.276983 1.798017\n",
      "3.157178 2.513187 0.991647 1.429160\n",
      "1.276983 0.992218 0.668704 0.339552\n",
      "1.798017 1.433381 0.339552 1.053987 \n",
      "\n",
      "matriz antes de estar inversa:\n",
      " 4.100000 3.163108 1.276983 1.798017\n",
      "3.157178 2.613187 0.991647 1.429160\n",
      "1.276983 0.992218 0.768704 0.339552\n",
      "1.798017 1.433381 0.339552 1.153987 \n",
      "\n",
      "matriz inversa:\n",
      "  4.556252 -3.789475 -1.859295 -1.858880\n",
      "-3.788129  6.000767 -0.888087 -1.268113\n",
      "-1.864244 -0.880564  4.332037  2.720530\n",
      "-1.845236 -1.290177  2.725386  4.537506 \n",
      "\n",
      "transposta vezes targets:\n",
      " 2.000000\n",
      "1.565679\n",
      "0.838579\n",
      "0.689401 \n",
      "\n",
      "matriz inversa vezes a outra multiplicação:\n",
      "  0.338721\n",
      " 0.200050\n",
      " 0.401123\n",
      "-0.296861 \n",
      "\n",
      "matriz vezes w (rmse):\n",
      " 0.758495\n",
      "0.512141\n",
      "0.309639\n",
      "0.385853 \n",
      "\n",
      "RMSE: 0.0650108667166552\n"
     ]
    }
   ],
   "source": [
    "#a)\n",
    "m_normal = np.matrix('1,0.748264,0.748264,0.101266; 1,0.814647,0.271173,0.331211; 1,0.71770,0.096328,0.711770; 1,0.882497,0.161218,0.653770')\n",
    "m_transposta = np.matrix('1,1,1,1; 0.748264,0.814647,0.711770,0.882497; 0.748264,0.271173,0.096328,0.161218; 0.101266,0.331211,0.711770,0.653770')\n",
    "\n",
    "mult1 = np.dot(m_transposta, m_normal)\n",
    "print('primeira multiplicação:\\n', pd.DataFrame(mult1).to_string(index=False, header=False), '\\n')\n",
    "\n",
    "matrix_i = np.matrix('0.1,0,0,0; 0,0.1,0,0; 0,0,0.1,0; 0,0,0,0.1')\n",
    "\n",
    "mult2 = np.add(mult1, matrix_i)\n",
    "print('matriz antes de estar inversa:\\n', pd.DataFrame(mult2).to_string(index=False, header=False), '\\n')\n",
    "\n",
    "matrix_inverse = np.linalg.inv(mult2)\n",
    "print('matriz inversa:\\n', pd.DataFrame(matrix_inverse).to_string(index=False, header=False), '\\n')\n",
    "\n",
    "targets = np.matrix('0.8;0.6;0.3;0.3')\n",
    "\n",
    "txt = np.dot(m_transposta, targets)\n",
    "print('transposta vezes targets:\\n', pd.DataFrame(txt).to_string(index=False, header=False), '\\n')\n",
    "\n",
    "res = np.dot(matrix_inverse, txt)\n",
    "print('matriz inversa vezes a outra multiplicação:\\n', pd.DataFrame(res).to_string(index=False, header=False), '\\n')\n",
    "\n",
    "#b)\n",
    "rmse = np.dot(m_normal, res)\n",
    "print('matriz vezes w (rmse):\\n', pd.DataFrame(rmse).to_string(index=False, header=False), '\\n')\n",
    "\n",
    "t_real = np.matrix('0.8; 0.6; 0.3; 0.3')\n",
    "erro_quadrado = (np.array(t_real) - np.array(rmse))**2\n",
    "mse = np.mean(erro_quadrado)\n",
    "rmse_final = np.sqrt(mse)\n",
    "print('RMSE:', rmse_final)"
   ]
  }
 ],
 "metadata": {
  "kernelspec": {
   "display_name": "Python 3",
   "language": "python",
   "name": "python3"
  },
  "language_info": {
   "codemirror_mode": {
    "name": "ipython",
    "version": 3
   },
   "file_extension": ".py",
   "mimetype": "text/x-python",
   "name": "python",
   "nbconvert_exporter": "python",
   "pygments_lexer": "ipython3",
   "version": "3.11.2"
  }
 },
 "nbformat": 4,
 "nbformat_minor": 2
}
