{
 "cells": [
  {
   "cell_type": "code",
   "execution_count": 4,
   "metadata": {},
   "outputs": [
    {
     "name": "stdout",
     "output_type": "stream",
     "text": [
      "primeira multiplicação:\n",
      " [[4.         3.163108   1.276983   1.798017  ]\n",
      " [3.157178   2.51318703 0.99164707 1.42916035]\n",
      " [1.276983   0.99221829 0.66870414 0.33955206]\n",
      " [1.798017   1.43338114 0.33955206 1.05398728]] \n",
      "\n",
      "matriz antes de estar inversa:\n",
      " [[4.1        3.163108   1.276983   1.798017  ]\n",
      " [3.157178   2.61318703 0.99164707 1.42916035]\n",
      " [1.276983   0.99221829 0.76870414 0.33955206]\n",
      " [1.798017   1.43338114 0.33955206 1.15398728]] \n",
      "\n",
      "matriz inversa:\n",
      " [[ 4.55625225 -3.78947542 -1.85929543 -1.8588796 ]\n",
      " [-3.78812887  6.00076704 -0.88808742 -1.268113  ]\n",
      " [-1.86424434 -0.88056356  4.33203722  2.72053034]\n",
      " [-1.84523569 -1.29017706  2.7253857   4.53750647]] \n",
      "\n",
      "transposta vezes targets:\n",
      " [1.5038174 1.4695034 1.4730494 1.5739946] \n",
      "\n",
      "matriz inversa vezes a outra multiplicação:\n",
      " [-4.38157608 -0.18270622  6.56593067  6.48582133] \n",
      "\n",
      "matriz vezes w (rmse):\n",
      " [ 8.48746969  6.96973362 -1.65000653  8.40944889] \n",
      "\n"
     ]
    }
   ],
   "source": [
    "import numpy as np\n",
    "\n",
    "#a)\n",
    "m_transposta = np.array([[1.000000,0.748264,0.748264,0.101266], [1.000000,0.814647,0.271173,0.331211], [1.000000,0.71770,0.096328,0.711770], [1.000000,0.882497,0.161218,0.653770]])\n",
    "m_normal = np.array([[1.000000,1.000000,1.000000,1.000000], [0.748264,0.814647,0.711770,0.882497], [0.748264,0.271173,0.096328,0.161218], [0.101266,0.331211,0.711770,0.653770]])\n",
    "\n",
    "mult1 = np.dot(m_normal, m_transposta)\n",
    "print('primeira multiplicação:\\n', mult1, '\\n')\n",
    "\n",
    "matrix_i = np.array([[0.1,0,0,0], [0,0.1,0,0], [0,0,0.1,0], [0,0,0,0.1]])\n",
    "\n",
    "mult2 = np.add(mult1, matrix_i)\n",
    "print('matriz antes de estar inversa:\\n', mult2, '\\n')\n",
    "\n",
    "matrix_inverse = np.linalg.inv(mult2)\n",
    "print('matriz inversa:\\n', matrix_inverse, '\\n')\n",
    "\n",
    "targets = np.array([0.8,0.6,0.3,0.3])\n",
    "\n",
    "txt = np.dot(m_transposta, targets)\n",
    "print('transposta vezes targets:\\n', txt, '\\n')\n",
    "\n",
    "res = np.dot(matrix_inverse, txt)\n",
    "print('matriz inversa vezes a outra multiplicação:\\n', res, '\\n')\n",
    "\n",
    "#b)\n",
    "rmse = np.dot(m_normal, res)\n",
    "print('matriz vezes w (rmse):\\n',rmse, '\\n')"
   ]
  }
 ],
 "metadata": {
  "kernelspec": {
   "display_name": "Python 3",
   "language": "python",
   "name": "python3"
  },
  "language_info": {
   "codemirror_mode": {
    "name": "ipython",
    "version": 3
   },
   "file_extension": ".py",
   "mimetype": "text/x-python",
   "name": "python",
   "nbconvert_exporter": "python",
   "pygments_lexer": "ipython3",
   "version": "3.11.2"
  }
 },
 "nbformat": 4,
 "nbformat_minor": 2
}
