{
 "cells": [
  {
   "cell_type": "code",
   "execution_count": 1,
   "metadata": {},
   "outputs": [
    {
     "name": "stdout",
     "output_type": "stream",
     "text": [
      "matriz antes de estar inversa:\n",
      " [[2.61318703 0.99164707 1.42916035]\n",
      " [0.99221829 0.76870414 0.33955206]\n",
      " [1.43338114 0.33955206 1.15398728]] \n",
      "\n",
      "matriz inversa:\n",
      " [[ 2.85014664 -2.43393044 -2.81361029]\n",
      " [-2.43107211  3.57128456  1.95994783]\n",
      " [-2.82487596  1.97239002  3.78467919]] \n",
      "\n",
      "transposta vezes targets:\n",
      " [1.5656795 0.8385788 0.6894014] \n",
      "\n",
      "matriz inversa vezes a outra multiplicação:\n",
      " [ 0.48166682  0.53971453 -0.1596828 ] \n",
      "\n",
      "matriz vezes w (rmse):\n",
      " [0.74809246 0.48585574 0.28402447 0.4076854 ] \n",
      "\n",
      "RMSE: 0.08302810921762396\n"
     ]
    }
   ],
   "source": [
    "import numpy as np\n",
    "\n",
    "# Define two matrices\n",
    "matrix1 = np.array([[0.748264,0.748264,0.101266], [0.814647,0.271173,0.331211], [0.71770,0.096328,0.711770], [0.882497,0.161218,0.653770]])\n",
    "matrix2 = np.array([[0.748264,0.814647,0.711770,0.882497], [0.748264,0.271173,0.096328,0.161218], [0.101266,0.331211,0.711770,0.653770]])\n",
    "\n",
    "# Multiply the matrices using numpy.dot\n",
    "mult1 = np.dot(matrix2, matrix1)\n",
    "\n",
    "# Print the result\n",
    "#print(mult1, '\\n')\n",
    "\n",
    "matrix_i = np.array([[0.1,0,0], [0,0.1,0], [0,0,0.1]])\n",
    "\n",
    "mult2 = np.add(mult1, matrix_i)\n",
    "\n",
    "print('matriz antes de estar inversa:\\n', mult2, '\\n')\n",
    "\n",
    "# Calculate the standard matrix inverse\n",
    "matrix_inverse = np.linalg.inv(mult2)\n",
    "\n",
    "print('matriz inversa:\\n', matrix_inverse, '\\n')\n",
    "\n",
    "targets = np.array([0.8,0.6,0.3,0.3])\n",
    "\n",
    "transp = np.dot(matrix2, targets)\n",
    "\n",
    "print('transposta vezes targets:\\n', transp, '\\n')\n",
    "\n",
    "res = np.dot(matrix_inverse, transp)\n",
    "\n",
    "print('matriz inversa vezes a outra multiplicação:\\n', res, '\\n')\n",
    "\n",
    "\n",
    "#b)\n",
    "\n",
    "t_real = np.array([0.8, 0.6, 0.3, 0.3]) \n",
    "\n",
    "rmse = np.dot(matrix1, res)\n",
    "\n",
    "print('matriz vezes w (rmse):\\n',rmse, '\\n')\n",
    "\n",
    "erro_quadrado = (t_real - rmse)**2\n",
    "\n",
    "# Cálculo do MSE (Mean Squared Error)\n",
    "mse = np.mean(erro_quadrado)\n",
    "\n",
    "# Cálculo do RMSE (Root Mean Square Error)\n",
    "rmse_final = np.sqrt(mse)\n",
    "\n",
    "print('RMSE:', rmse_final)\n"
   ]
  }
 ],
 "metadata": {
  "kernelspec": {
   "display_name": "Python 3",
   "language": "python",
   "name": "python3"
  },
  "language_info": {
   "codemirror_mode": {
    "name": "ipython",
    "version": 3
   },
   "file_extension": ".py",
   "mimetype": "text/x-python",
   "name": "python",
   "nbconvert_exporter": "python",
   "pygments_lexer": "ipython3",
   "version": "3.11.5"
  }
 },
 "nbformat": 4,
 "nbformat_minor": 2
}
