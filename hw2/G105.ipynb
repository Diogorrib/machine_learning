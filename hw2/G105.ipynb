{
 "cells": [
  {
   "cell_type": "markdown",
   "metadata": {},
   "source": [
    "# 1) Comparar a performance de 𝑘NN e de Naïve Bayes com suposição Gaussiana"
   ]
  },
  {
   "cell_type": "code",
   "execution_count": 222,
   "metadata": {},
   "outputs": [],
   "source": [
    "import pandas as pd\n",
    "from scipy.io.arff import loadarff\n",
    "from sklearn.model_selection import StratifiedKFold\n",
    "from sklearn.neighbors import KNeighborsClassifier\n",
    "from sklearn.naive_bayes import GaussianNB\n",
    "from sklearn.metrics import accuracy_score\n",
    "\n",
    "# Read ARFF file\n",
    "data = loadarff('column_diagnosis.arff')\n",
    "df = pd.DataFrame(data[0])\n",
    "df['class'] = df['class'].str.decode('utf-8')\n",
    "\n",
    "X = df.drop('class', axis=1)\n",
    "y = df['class']\n",
    "\n",
    "stratified_cv = StratifiedKFold(n_splits=10, shuffle=True, random_state=0)\n",
    "\n",
    "knn_accuracies, nb_accuracies = [], []\n",
    "\n",
    "knn_classifier = KNeighborsClassifier(n_neighbors=5)\n",
    "nb_classifier = GaussianNB()\n",
    "\n",
    "# Iterate through each fold of stratified cross-validation\n",
    "for train_index, test_index in stratified_cv.split(X, y):\n",
    "    X_train, X_test = X.iloc[train_index], X.iloc[test_index]\n",
    "    y_train, y_test = y[train_index], y[test_index]\n",
    "\n",
    "    # Train both classifiers\n",
    "    knn_classifier.fit(X_train, y_train)\n",
    "    nb_classifier.fit(X_train, y_train)\n",
    "    \n",
    "    # Predict and evaluate 𝑘NN\n",
    "    knn_pred = knn_classifier.predict(X_test)\n",
    "    knn_accuracy = accuracy_score(y_test, knn_pred)\n",
    "    knn_accuracies.append(knn_accuracy)\n",
    "    \n",
    "    # Predict and evaluate Gaussian Naïve Bayes\n",
    "    nb_pred = nb_classifier.predict(X_test)\n",
    "    nb_accuracy = accuracy_score(y_test, nb_pred)\n",
    "    nb_accuracies.append(nb_accuracy)"
   ]
  },
  {
   "cell_type": "markdown",
   "metadata": {},
   "source": [
    "### a) Boxplots das precisões de cada classificador"
   ]
  },
  {
   "cell_type": "code",
   "execution_count": 223,
   "metadata": {},
   "outputs": [
    {
     "data": {
      "image/png": "[encoded data removed]",
      "text/plain": [
       "<Figure size 800x400 with 1 Axes>"
      ]
     },
     "metadata": {},
     "output_type": "display_data"
    }
   ],
   "source": [
    "import matplotlib.pyplot as plt\n",
    "\n",
    "plt.figure(figsize=(8, 4))\n",
    "plt.boxplot([knn_accuracies, nb_accuracies], labels=['kNN', 'Naïve Bayes'])\n",
    "plt.title('Fold Accuracies for kNN and Naïve Bayes')\n",
    "plt.ylabel('Accuracy')\n",
    "plt.grid(axis='y', alpha=0.4)\n",
    "plt.show()"
   ]
  },
  {
   "cell_type": "markdown",
   "metadata": {},
   "source": [
    "### b) Testar a hipótese “𝑘NN is statistically superior to naïve Bayes regarding accuracy”"
   ]
  },
  {
   "cell_type": "code",
   "execution_count": 224,
   "metadata": {},
   "outputs": [
    {
     "name": "stdout",
     "output_type": "stream",
     "text": [
      "Para níveis de signicância até 0.05, a hipótese nula (𝑘NN é estatisticamente igual a Naïve Bayes em termos de precisão) \n",
      "não pode ser rejeitada, ou seja, \"𝑘NN is statistically superior to Naïve Bayes regarding accuracy\" é falso.\n"
     ]
    }
   ],
   "source": [
    "from scipy import stats\n",
    "\n",
    "# H0: 𝑘NN is statistically equal to Naïve Bayes regarding accuracy\n",
    "# H1: 𝑘NN is statistically superior to Naïve Bayes regarding accuracy\n",
    "t_statistic, p_value = stats.ttest_rel(knn_accuracies, nb_accuracies, alternative='greater')\n",
    "\n",
    "alpha = 0.05  # Significance level\n",
    "if p_value < alpha:\n",
    "    print('Para níveis de signicância até 0.05, a hipótese nula (𝑘NN é estatisticamente igual a Naïve Bayes em termos de precisão)'\n",
    "          '\\né rejeitada, ou seja, \"𝑘NN is statistically superior to Naïve Bayes regarding accuracy\" confirma-se.')\n",
    "else:\n",
    "    print('Para níveis de signicância até 0.05, a hipótese nula (𝑘NN é estatisticamente igual a Naïve Bayes em termos de precisão)',\n",
    "          '\\nnão pode ser rejeitada, ou seja, \"𝑘NN is statistically superior to Naïve Bayes regarding accuracy\" é falso.')"
   ]
  },
  {
   "cell_type": "markdown",
   "metadata": {},
   "source": [
    "# 2) Diferença das matrizes de confusão cumulativas de 2 preditores 𝑘NN"
   ]
  },
  {
   "cell_type": "code",
   "execution_count": 225,
   "metadata": {},
   "outputs": [
    {
     "name": "stdout",
     "output_type": "stream",
     "text": [
      "Difference between cumulative confusion matrices (𝑘NN1 - 𝑘NN5):\n",
      "\n",
      "                    Hernia  Normal  Spondylolisthesis\n",
      "Hernia               -0.2     0.2                0.0\n",
      "Normal               -0.7     0.4                0.3\n",
      "Spondylolisthesis    -0.7     0.5                0.2 \n",
      "\n",
      "Note:\tColumns are predicted values\n",
      "\tLines are test values\n"
     ]
    }
   ],
   "source": [
    "import numpy as np\n",
    "from sklearn.metrics import confusion_matrix\n",
    "\n",
    "# Initialize lists to store confusion matrices\n",
    "cmatrices_knn1, cmatrices_knn5 = [], []\n",
    "classes = [\"Hernia\", \"Normal\", \"Spondylolisthesis\"]\n",
    "\n",
    "knn1 = KNeighborsClassifier(n_neighbors=1, weights='uniform', metric='euclidean')\n",
    "knn5 = KNeighborsClassifier(n_neighbors=5, weights='uniform', metric='euclidean')\n",
    "\n",
    "# Iterate through each fold of stratified cross-validation\n",
    "for train_index, test_index in stratified_cv.split(X, y):\n",
    "    X_train, X_test = X.iloc[train_index], X.iloc[test_index]\n",
    "    y_train, y_test = y[train_index], y[test_index]\n",
    "\n",
    "    # Train both classifiers    \n",
    "    knn1.fit(X_train, y_train)\n",
    "    knn5.fit(X_train, y_train)\n",
    "\n",
    "    # Make predictions and calculate confusion matrix for 𝑘NN1\n",
    "    y_pred_knn1 = knn1.predict(X_test)\n",
    "    cmatrix_knn1 = confusion_matrix(y_test, y_pred_knn1, labels=classes)\n",
    "    cmatrices_knn1.append(cmatrix_knn1)\n",
    "\n",
    "    # Make predictions and calculate confusion matrix for 𝑘NN5\n",
    "    y_pred_knn5 = knn5.predict(X_test)\n",
    "    cmatrix_knn5 = confusion_matrix(y_test, y_pred_knn5, labels=classes)\n",
    "    cmatrices_knn5.append(cmatrix_knn5)\n",
    "\n",
    "mean_knn1 = np.mean(cmatrices_knn1, axis=0)\n",
    "mean_knn5 = np.mean(cmatrices_knn5, axis=0)\n",
    "\n",
    "cumulative_knn1 = np.cumsum(mean_knn1, axis=0)\n",
    "cumulative_knn5 = np.cumsum(mean_knn5, axis=0)\n",
    "\n",
    "# Calculate the difference between cumulative confusion matrices\n",
    "difference_matrix = cumulative_knn1 - cumulative_knn5\n",
    "\n",
    "print(\"Difference between cumulative confusion matrices (𝑘NN1 - 𝑘NN5):\\n\\n\",\n",
    "      pd.DataFrame(difference_matrix, index=classes, columns=classes),\n",
    "      \"\\n\\nNote:\\tColumns are predicted values\\n\\tLines are test values\")"
   ]
  },
  {
   "cell_type": "markdown",
   "metadata": {},
   "source": [
    "### Comment results of 2)"
   ]
  },
  {
   "cell_type": "markdown",
   "metadata": {},
   "source": [
    "# 3) Possíveis dificuldades de Naïve Bayes a aprender o dataset column_diagnosis\n",
    "\n",
    "Comment"
   ]
  }
 ],
 "metadata": {
  "kernelspec": {
   "display_name": "Python 3",
   "language": "python",
   "name": "python3"
  },
  "language_info": {
   "codemirror_mode": {
    "name": "ipython",
    "version": 3
   },
   "file_extension": ".py",
   "mimetype": "text/x-python",
   "name": "python",
   "nbconvert_exporter": "python",
   "pygments_lexer": "ipython3",
   "version": "3.11.2"
  },
  "orig_nbformat": 4
 },
 "nbformat": 4,
 "nbformat_minor": 2
}
