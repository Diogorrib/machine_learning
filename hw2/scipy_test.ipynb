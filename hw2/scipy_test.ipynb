{
 "cells": [
  {
   "cell_type": "code",
   "execution_count": 6,
   "metadata": {},
   "outputs": [],
   "source": [
    "import numpy as np\n",
    "from scipy.stats import multivariate_normal"
   ]
  },
  {
   "cell_type": "code",
   "execution_count": 7,
   "metadata": {},
   "outputs": [],
   "source": [
    "# Selecionar a observação em estudo\n",
    "x8 = np.array([0.38, 0.52]) # array x8\n",
    "x9 = np.array([0.42, 0.59]) # array x9"
   ]
  },
  {
   "cell_type": "code",
   "execution_count": 8,
   "metadata": {},
   "outputs": [
    {
     "name": "stdout",
     "output_type": "stream",
     "text": [
      "N([0.38 0.52] | A) = 0.984705\n",
      "N([0.42 0.59] | A) = 0.403071\n"
     ]
    }
   ],
   "source": [
    "# P(y1,y2 | A)\n",
    "\n",
    "mean = np.array([0.24, 0.52])\n",
    "covariance_matrix = np.array([[0.0064, 0.0096], [0.0096, 0.0336]])\n",
    "\n",
    "mvn = multivariate_normal(mean=mean, cov=covariance_matrix)\n",
    "probability8 = mvn.pdf(x8)\n",
    "probability9 = mvn.pdf(x9)\n",
    "\n",
    "print(f\"N({x8} | A) = {probability8:.6f}\")\n",
    "print(f\"N({x9} | A) = {probability9:.6f}\")"
   ]
  },
  {
   "cell_type": "code",
   "execution_count": 9,
   "metadata": {},
   "outputs": [
    {
     "name": "stdout",
     "output_type": "stream",
     "text": [
      "N([0.38 0.52] | B) = 1.774235\n",
      "N([0.42 0.59] | B) = 1.134592\n"
     ]
    }
   ],
   "source": [
    "# P(y1,y2 | B)\n",
    "\n",
    "mean = np.array([0.5925, 0.275])\n",
    "covariance_matrix = np.array([[0.04908, -0.02107], [-0.02107, 0.03753]])\n",
    "\n",
    "mvn = multivariate_normal(mean=mean, cov=covariance_matrix)\n",
    "probability8 = mvn.pdf(x8)\n",
    "probability9 = mvn.pdf(x9)\n",
    "\n",
    "print(f\"N({x8} | B) = {probability8:.6f}\")\n",
    "print(f\"N({x9} | B) = {probability9:.6f}\")"
   ]
  },
  {
   "cell_type": "code",
   "execution_count": 10,
   "metadata": {},
   "outputs": [
    {
     "name": "stdout",
     "output_type": "stream",
     "text": [
      "N([0.38 0.52]) = 3.622858\n",
      "N([0.42 0.59]) = 2.538694\n"
     ]
    }
   ],
   "source": [
    "# P(y1,y2)\n",
    "\n",
    "mean = np.array([0.4414, 0.41])\n",
    "covariance_matrix = np.array([[0.04908, -0.02107], [-0.02107, 0.03753]])\n",
    "\n",
    "mvn = multivariate_normal(mean=mean, cov=covariance_matrix)\n",
    "probability8 = mvn.pdf(x8)\n",
    "probability9 = mvn.pdf(x9)\n",
    "\n",
    "print(f\"N({x8}) = {probability8:.6f}\")\n",
    "print(f\"N({x9}) = {probability9:.6f}\")"
   ]
  }
 ],
 "metadata": {
  "kernelspec": {
   "display_name": "Python 3",
   "language": "python",
   "name": "python3"
  },
  "language_info": {
   "codemirror_mode": {
    "name": "ipython",
    "version": 3
   },
   "file_extension": ".py",
   "mimetype": "text/x-python",
   "name": "python",
   "nbconvert_exporter": "python",
   "pygments_lexer": "ipython3",
   "version": "3.11.2"
  },
  "orig_nbformat": 4
 },
 "nbformat": 4,
 "nbformat_minor": 2
}
