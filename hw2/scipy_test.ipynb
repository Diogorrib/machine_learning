{
 "cells": [
  {
   "cell_type": "code",
   "execution_count": null,
   "metadata": {},
   "outputs": [],
   "source": [
    "import numpy as np\n",
    "from scipy.stats import multivariate_normal"
   ]
  },
  {
   "cell_type": "code",
   "execution_count": null,
   "metadata": {},
   "outputs": [],
   "source": [
    "# Selecionar a observação em estudo\n",
    "x = np.array([0.38, 0.52]) # array x8\n",
    "#x = np.array([0.42, 0.59]) # array x9"
   ]
  },
  {
   "cell_type": "code",
   "execution_count": null,
   "metadata": {},
   "outputs": [],
   "source": [
    "# P(y1,y2 | A)\n",
    "\n",
    "mean = np.array([0.24, 0.52])\n",
    "covariance_matrix = np.array([[0.0064, 0.0096], [0.0096, 0.0336]])\n",
    "\n",
    "mvn = multivariate_normal(mean=mean, cov=covariance_matrix)\n",
    "probability = mvn.pdf(x)\n",
    "\n",
    "print(f\"N({x} | A) = {probability:.6f}\")"
   ]
  },
  {
   "cell_type": "code",
   "execution_count": null,
   "metadata": {},
   "outputs": [],
   "source": [
    "# P(y1,y2 | B)\n",
    "\n",
    "mean = np.array([0.5925, 0.275])\n",
    "covariance_matrix = np.array([[0.04908, -0.02107], [-0.02107, 0.03753]])\n",
    "\n",
    "mvn = multivariate_normal(mean=mean, cov=covariance_matrix)\n",
    "probability = mvn.pdf(x)\n",
    "\n",
    "print(f\"N({x} | B) = {probability:.6f}\")"
   ]
  },
  {
   "cell_type": "code",
   "execution_count": null,
   "metadata": {},
   "outputs": [],
   "source": [
    "# P(y1,y2)\n",
    "\n",
    "mean = np.array([0.4414, 0.41])\n",
    "covariance_matrix = np.array([[0.04908, -0.02107], [-0.02107, 0.03753]])\n",
    "\n",
    "mvn = multivariate_normal(mean=mean, cov=covariance_matrix)\n",
    "probability = mvn.pdf(x)\n",
    "\n",
    "print(f\"N({x}) = {probability:.6f}\")"
   ]
  }
 ],
 "metadata": {
  "kernelspec": {
   "display_name": "Python 3",
   "language": "python",
   "name": "python3"
  },
  "language_info": {
   "codemirror_mode": {
    "name": "ipython",
    "version": 3
   },
   "file_extension": ".py",
   "mimetype": "text/x-python",
   "name": "python",
   "nbconvert_exporter": "python",
   "pygments_lexer": "ipython3",
   "version": "3.11.2"
  },
  "orig_nbformat": 4
 },
 "nbformat": 4,
 "nbformat_minor": 2
}
